{
 "cells": [
  {
   "cell_type": "code",
   "execution_count": null,
   "metadata": {},
   "outputs": [],
   "source": [
    "from vikingsClasses import *"
   ]
  },
  {
   "cell_type": "code",
   "execution_count": 7,
   "metadata": {},
   "outputs": [],
   "source": [
    "# We instantiate the War class\n",
    "war = War()"
   ]
  },
  {
   "cell_type": "code",
   "execution_count": 8,
   "metadata": {},
   "outputs": [],
   "source": [
    "# Add Vikings to Viking Army\n",
    "viking_1 = Viking(name=\"Tayna\", health=20, strength=50)\n",
    "viking_2 = Viking(name=\"Marina\", health=30, strength=45)\n",
    "viking_3 = Viking(name=\"Ana\", health=50, strength=30)\n",
    "viking_4 = Viking(name=\"Clausia\", health=40, strength=20)\n",
    "\n",
    "war.addViking(viking_1)\n",
    "war.addViking(viking_2)\n",
    "war.addViking(viking_3)\n",
    "war.addViking(viking_4)\n",
    "\n",
    "# Add Saxons to Saxon Army\n",
    "saxon_1 = Saxon(health=10, strength=60)\n",
    "saxon_2 = Saxon(health=5, strength=10)\n",
    "saxon_3 = Saxon(health=3, strength=8)\n",
    "saxon_4 = Saxon(health=10, strength=3)\n",
    "\n",
    "war.addSaxon(saxon_1)\n",
    "war.addSaxon(saxon_2)\n",
    "war.addSaxon(saxon_3)\n",
    "war.addSaxon(saxon_4)"
   ]
  },
  {
   "cell_type": "code",
   "execution_count": null,
   "metadata": {},
   "outputs": [],
   "source": [
    "war.showStatus()"
   ]
  },
  {
   "cell_type": "code",
   "execution_count": null,
   "metadata": {},
   "outputs": [],
   "source": [
    "while (len(war.saxonArmy) > 0) and (len(war.vikingArmy) > 0):\n",
    "    \n",
    "    result_attack_saxon = war.saxonAttack()\n",
    "    print(result_attack_saxon)\n",
    "\n",
    "    war.showStatus()\n",
    "\n",
    "    result_attack_viking = war.vikingAttack()\n",
    "    print(result_attack_viking)\n",
    "    \n",
    "    war_status = war.showStatus()\n",
    "    print(f\"\\n{war_status}\")"
   ]
  }
 ],
 "metadata": {
  "kernelspec": {
   "display_name": "base",
   "language": "python",
   "name": "python3"
  },
  "language_info": {
   "codemirror_mode": {
    "name": "ipython",
    "version": 3
   },
   "file_extension": ".py",
   "mimetype": "text/x-python",
   "name": "python",
   "nbconvert_exporter": "python",
   "pygments_lexer": "ipython3",
   "version": "3.12.3"
  }
 },
 "nbformat": 4,
 "nbformat_minor": 2
}
