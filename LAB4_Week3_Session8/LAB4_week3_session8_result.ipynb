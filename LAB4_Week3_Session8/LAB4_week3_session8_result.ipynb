{
 "cells": [
  {
   "cell_type": "markdown",
   "metadata": {},
   "source": [
    "# Functions"
   ]
  },
  {
   "cell_type": "markdown",
   "metadata": {},
   "source": [
    "En este laboratorio pondremos en práctica algunos de los conceptos que hemos aprendido en los últimos días.\n",
    "\n",
    "`NOTA: En este laboratorio deberías intentar escribir todas las funciones por ti mismo utilizando solo la sintaxis más básica de Python y sin funciones como len, count, sum, max, min, in, etc. Dale una oportunidad. 🧑🏻‍💻👩🏻‍💻`\n",
    "\n",
    "La celda después de cada ejercicio contiene algunas pruebas para verificar si tu función funciona como se espera."
   ]
  },
  {
   "cell_type": "code",
   "execution_count": 1,
   "metadata": {},
   "outputs": [],
   "source": [
    "from mod.testing import *\n",
    "import unittest"
   ]
  },
  {
   "cell_type": "markdown",
   "metadata": {},
   "source": [
    "## 1. Escribe una función que devuelva el mayor de dos números"
   ]
  },
  {
   "cell_type": "code",
   "execution_count": 4,
   "metadata": {},
   "outputs": [],
   "source": [
    "def greater(a,b):\n",
    "#tu codigo aquí\n",
    "    if a > b:\n",
    "        return a\n",
    "    else:\n",
    "        return b"
   ]
  },
  {
   "cell_type": "code",
   "execution_count": 5,
   "metadata": {},
   "outputs": [
    {
     "name": "stdout",
     "output_type": "stream",
     "text": [
      "5\n",
      "10\n"
     ]
    }
   ],
   "source": [
    "# Para testear tu función\n",
    "print(greater(5, 3))\n",
    "print(greater(2, 10))"
   ]
  },
  {
   "cell_type": "markdown",
   "metadata": {},
   "source": [
    "## 2. Ahora escribe una función que devuelva el elemento más"
   ]
  },
  {
   "cell_type": "code",
   "execution_count": 6,
   "metadata": {},
   "outputs": [],
   "source": [
    "#tu codigo aquí\n",
    "def find_max(lst):\n",
    "    if len(lst) == 0:\n",
    "        return None\n",
    "    \n",
    "    max_element = lst[0]\n",
    "    for element in lst[1:]:\n",
    "        if element > max_element:\n",
    "            max_element = element\n",
    "    return max_element"
   ]
  },
  {
   "cell_type": "code",
   "execution_count": 7,
   "metadata": {},
   "outputs": [
    {
     "name": "stdout",
     "output_type": "stream",
     "text": [
      "9\n",
      "-1\n"
     ]
    }
   ],
   "source": [
    "# Para testear tu función\n",
    "print(find_max([1, 5, 3, 9, 2]))\n",
    "print(find_max([-1, -5, -3, -9, -2]))"
   ]
  },
  {
   "cell_type": "markdown",
   "metadata": {},
   "source": [
    "## 3. Escribe una función que sume todos los elementos de una lista"
   ]
  },
  {
   "cell_type": "code",
   "execution_count": 8,
   "metadata": {},
   "outputs": [],
   "source": [
    "def sum_all(lst):\n",
    "#tu codigo aquí\n",
    "    total = 0  # Inicializamos la variable total en 0\n",
    "    for element in lst:\n",
    "        total += element  # Sumamos cada elemento al total\n",
    "    return total"
   ]
  },
  {
   "cell_type": "code",
   "execution_count": 9,
   "metadata": {
    "scrolled": true
   },
   "outputs": [
    {
     "name": "stdout",
     "output_type": "stream",
     "text": [
      "15\n",
      "2\n"
     ]
    }
   ],
   "source": [
    "# Para testear tu función\n",
    "print(sum_all([1, 2, 3, 4, 5]))\n",
    "print(sum_all([-1, 2, -3, 4]))"
   ]
  },
  {
   "cell_type": "markdown",
   "metadata": {},
   "source": [
    "## 4. Escribe otra función que multiplique todos los elementos de una lista"
   ]
  },
  {
   "cell_type": "code",
   "execution_count": 10,
   "metadata": {},
   "outputs": [],
   "source": [
    "def mult_all(lst):\n",
    "#tu codigo aquí\n",
    "    total = 1  # Inicializamos el total en 1 (neutro para la multiplicación)\n",
    "    for element in lst:\n",
    "        total *= element  # Multiplicamos cada elemento por el total\n",
    "    return total"
   ]
  },
  {
   "cell_type": "code",
   "execution_count": 11,
   "metadata": {
    "scrolled": true
   },
   "outputs": [
    {
     "name": "stdout",
     "output_type": "stream",
     "text": [
      "24\n",
      "60\n"
     ]
    }
   ],
   "source": [
    "# Para testear tu función\n",
    "print(mult_all([1, 2, 3, 4]))\n",
    "print(mult_all([2, 5, 6]))"
   ]
  },
  {
   "cell_type": "markdown",
   "metadata": {},
   "source": [
    "## 5. Ahora combina esas dos ideas y escribe una función que reciba una lista y ya sea \"+\" o \"*\", y produzca el resultado acorde"
   ]
  },
  {
   "cell_type": "code",
   "execution_count": 12,
   "metadata": {},
   "outputs": [],
   "source": [
    "def oper_all(arr, oper = \"*\"):\n",
    "#tu codigo aquí\n",
    "    if oper == \"+\":\n",
    "        result = 0  # Neutro para la suma\n",
    "        for element in arr:\n",
    "            result += element  # Sumamos los elementos\n",
    "    elif oper == \"*\":\n",
    "        result = 1  # Neutro para la multiplicación\n",
    "        for element in arr:\n",
    "            result *= element  # Multiplicamos los elementos\n",
    "    else:\n",
    "        return \"Operador inválido\"\n",
    "    \n",
    "    return result"
   ]
  },
  {
   "cell_type": "code",
   "execution_count": 14,
   "metadata": {},
   "outputs": [
    {
     "name": "stdout",
     "output_type": "stream",
     "text": [
      "10\n",
      "24\n",
      "15\n"
     ]
    }
   ],
   "source": [
    "# Para testear tu función\n",
    "\n",
    "print(oper_all([1, 2, 3, 4], \"+\"))\n",
    "print(oper_all([1, 2, 3, 4], \"*\"))\n",
    "print(oper_all([5, 5, 5], \"+\"))"
   ]
  },
  {
   "cell_type": "markdown",
   "metadata": {},
   "source": [
    "## 6. Escribe una función que devuelva el factorial de un número."
   ]
  },
  {
   "cell_type": "code",
   "execution_count": 15,
   "metadata": {},
   "outputs": [],
   "source": [
    "def factorial(n):\n",
    "#tu codigo aquí\n",
    "    if n < 0:\n",
    "        return \"El factorial no está definido para números negativos.\"\n",
    "    \n",
    "    result = 1  # Inicializamos el resultado en 1 (neutro para la multiplicación)\n",
    "    for i in range(1, n + 1):  # Iteramos desde 1 hasta n\n",
    "        result *= i  # Multiplicamos cada número por el resultado acumulado\n",
    "    return result"
   ]
  },
  {
   "cell_type": "code",
   "execution_count": 1,
   "metadata": {},
   "outputs": [],
   "source": [
    "# Fórmula factorial\n",
    "# n! = n * (n - 1) *...*1\n",
    "\n",
    "# Este código define una función llamada \"factorial\" que toma una entrada \"n\". La función utiliza un bucle for para iterar a través del rango de números\n",
    "# desde 1 hasta n+1. Para cada número en ese rango, multiplica el valor actual de x por el número en el rango. Al final del bucle,\n",
    "# la función devuelve el valor final de x, que será el factorial del número de entrada \"n\".\n",
    "\n",
    "# El factorial de un entero positivo n es el producto de todos los enteros positivos menores o iguales a n.\n",
    "# Por ejemplo, el factorial de 6 (escrito \"6!\") es 6 * 5 * 4 * 3 * 2 * 1 = 720.\n",
    "\n",
    "# Así que esta función toma una entrada de cualquier entero positivo y devuelve el factorial de ese número."
   ]
  },
  {
   "cell_type": "code",
   "execution_count": 16,
   "metadata": {},
   "outputs": [
    {
     "name": "stdout",
     "output_type": "stream",
     "text": [
      "120\n",
      "720\n",
      "1\n"
     ]
    }
   ],
   "source": [
    "# This will test your function \n",
    "print(factorial(5))\n",
    "print(factorial(6))\n",
    "print(factorial(0))"
   ]
  },
  {
   "cell_type": "markdown",
   "metadata": {},
   "source": [
    "## 7. Escribe una función que tome una lista y devuelva una lista de los valores únicos.\n",
    "\n",
    "`NOTE: No podemos usar set. 🤔`"
   ]
  },
  {
   "cell_type": "code",
   "execution_count": 17,
   "metadata": {},
   "outputs": [],
   "source": [
    "def unique(lst_un):\n",
    "#tu codigo aquí\n",
    "    unique_list = []  # Inicializamos una lista vacía para almacenar los valores únicos\n",
    "    for element in lst_un:\n",
    "        # Verificamos si el elemento no está ya en la lista de únicos\n",
    "        is_unique = True\n",
    "        for unique_element in unique_list:\n",
    "            if element == unique_element:\n",
    "                is_unique = False\n",
    "                break\n",
    "        if is_unique:\n",
    "            unique_list.append(element)  # Si no está, lo añadimos\n",
    "    return unique_list"
   ]
  },
  {
   "cell_type": "code",
   "execution_count": 18,
   "metadata": {},
   "outputs": [
    {
     "name": "stdout",
     "output_type": "stream",
     "text": [
      "[1, 2, 3, 4]\n",
      "[5]\n",
      "[1, 3, 2]\n"
     ]
    }
   ],
   "source": [
    "# Para testear tu función \n",
    "print(unique([1, 2, 3, 2, 1, 4]))\n",
    "print(unique([5, 5, 5, 5]))\n",
    "print(unique([1, 3, 2, 3, 1]))"
   ]
  },
  {
   "cell_type": "markdown",
   "metadata": {},
   "source": [
    "## 8. Escribe una función que devuelva la moda de una lista, es decir: el elemento que aparece más veces.\n",
    "\n",
    "`NOTE: No se debe usar count... 🧐`"
   ]
  },
  {
   "cell_type": "code",
   "execution_count": 19,
   "metadata": {},
   "outputs": [],
   "source": [
    "def mode_counter(arr):\n",
    "#tu codigo aquí\n",
    "    frequency_dict = {}  # Diccionario para almacenar la frecuencia de cada elemento\n",
    "\n",
    "    # Contar la frecuencia de cada elemento manualmente\n",
    "    for element in arr:\n",
    "        if element in frequency_dict:\n",
    "            frequency_dict[element] += 1  # Si ya está en el diccionario, incrementar su valor\n",
    "        else:\n",
    "            frequency_dict[element] = 1  # Si no está, inicializar en 1\n",
    "\n",
    "    # Encontrar el elemento con mayor frecuencia\n",
    "    mode = None\n",
    "    max_frequency = 0\n",
    "\n",
    "\n",
    "    for key, value in frequency_dict.items():\n",
    "        if value > max_frequency:\n",
    "            max_frequency = value\n",
    "            mode = key\n",
    "\n",
    "    return mode"
   ]
  },
  {
   "cell_type": "code",
   "execution_count": 20,
   "metadata": {},
   "outputs": [
    {
     "name": "stdout",
     "output_type": "stream",
     "text": [
      "3\n",
      "5\n",
      "5\n"
     ]
    }
   ],
   "source": [
    "# Para testear tu función \n",
    "print(mode_counter([1, 3, 3, 2, 1, 3, 4]))\n",
    "print(mode_counter([5, 5, 5, 3, 2, 1]))\n",
    "print(mode_counter([1, 2, 3, 4, 5, 5, 5]))"
   ]
  },
  {
   "cell_type": "markdown",
   "metadata": {},
   "source": [
    "## 9. Escribe una función que calcule la desviación estándar de una lista.\n",
    "`NOTE: no utilices librerías ni ninguna función ya construida. 😉`"
   ]
  },
  {
   "cell_type": "code",
   "execution_count": 21,
   "metadata": {},
   "outputs": [],
   "source": [
    "def st_dev(list_sd):\n",
    "#tu codigo aquí\n",
    "\n",
    "    mean = 0\n",
    "    for num in list_sd:\n",
    "        mean += num\n",
    "    mean /= len(list_sd)\n",
    "\n",
    "    variance_sum = 0\n",
    "    for num in list_sd:\n",
    "        variance_sum += (num - mean) * (num - mean)\n",
    "\n",
    "    variance = variance_sum / len(list_sd)\n",
    "\n",
    "    return variance ** 0.5"
   ]
  },
  {
   "cell_type": "code",
   "execution_count": 22,
   "metadata": {},
   "outputs": [
    {
     "name": "stdout",
     "output_type": "stream",
     "text": [
      "1.4142135623730951\n",
      "4.898979485566356\n"
     ]
    }
   ],
   "source": [
    "# Para testear tu función\n",
    "print(st_dev([1, 2, 3, 4, 5]))\n",
    "print(st_dev([10, 12, 23, 23, 16, 23, 21, 16]))"
   ]
  },
  {
   "cell_type": "markdown",
   "metadata": {},
   "source": [
    "## 10. Escribe una función para verificar si una cadena es un pangrama, es decir: si contiene todas las letras del alfabeto al menos una vez. Ten en cuenta que las cadenas pueden contener caracteres que no son letras."
   ]
  },
  {
   "cell_type": "code",
   "execution_count": 23,
   "metadata": {},
   "outputs": [],
   "source": [
    "def pangram(string):\n",
    "#tu codigo aquí\n",
    "    alphabet = \"abcdefghijklmnopqrstuvwxyz\"\n",
    "    \n",
    "    for letter in alphabet:\n",
    "        found = False\n",
    "        for char in string:\n",
    "            if char == letter:\n",
    "                found = True\n",
    "                break\n",
    "        if not found:\n",
    "            return False\n",
    "    \n",
    "    return True"
   ]
  },
  {
   "cell_type": "code",
   "execution_count": 24,
   "metadata": {},
   "outputs": [
    {
     "name": "stdout",
     "output_type": "stream",
     "text": [
      "True\n",
      "False\n"
     ]
    }
   ],
   "source": [
    "# Para testear tu función\n",
    "print(pangram(\"The quick brown fox jumps over the lazy dog\"))\n",
    "print(pangram(\"Hello, my name is Tayná\"))"
   ]
  },
  {
   "cell_type": "markdown",
   "metadata": {},
   "source": [
    "## 11. Escribe una función que reciba una cadena de palabras separadas por comas y devuelva una cadena de palabras separadas por comas ordenadas alfabéticamente.\n",
    "\n",
    "`NOTA: Puedes usar sorted pero no split y definitivamente no join! 🤪`"
   ]
  },
  {
   "cell_type": "code",
   "execution_count": 25,
   "metadata": {},
   "outputs": [],
   "source": [
    "def sort_alpha(string):\n",
    "#tu codigo aquí\n",
    "\n",
    "    words = []\n",
    "    start = 0\n",
    "    for i in range(len(string)):\n",
    "        if string[i] == ',' or i == len(string) - 1:\n",
    "            if i == len(string) - 1 and string[i] != ',':\n",
    "                i += 1\n",
    "            words.append(string[start:i].strip())\n",
    "            start = i + 1\n",
    "    sorted_words = sorted(words)\n",
    "    result = ''\n",
    "    for i in range(len(sorted_words)):\n",
    "        if i > 0:\n",
    "            result += ','\n",
    "        result += sorted_words[i]\n",
    "    return result"
   ]
  },
  {
   "cell_type": "code",
   "execution_count": 26,
   "metadata": {},
   "outputs": [
    {
     "name": "stdout",
     "output_type": "stream",
     "text": [
      "april,december,february,january,july,june,march,may,november,october,september\n",
      "Barcelona,Granada,Huelva,Madrid,Malaga,Zaragoza\n"
     ]
    }
   ],
   "source": [
    "# Para testear tu función \n",
    "print(sort_alpha(\"january,february,march,april,may,june,july,september,october,november,december\"))\n",
    "print(sort_alpha(\"Barcelona,Madrid,Huelva,Zaragoza,Malaga,Granada\"))"
   ]
  },
  {
   "cell_type": "markdown",
   "metadata": {},
   "source": [
    "## 12. Escribe una función para verificar si una contraseña dada es fuerte (al menos 8 caracteres, al menos una minúscula, al menos una mayúscula, al menos un número y al menos un carácter especial). Debería devolver True si es fuerte y False si no lo es."
   ]
  },
  {
   "cell_type": "code",
   "execution_count": 27,
   "metadata": {},
   "outputs": [],
   "source": [
    "def check_pass(password):\n",
    "#tu codigo aquí\n",
    "\n",
    "\n",
    "    if len(password) < 8:\n",
    "        return False\n",
    "    \n",
    "    has_lower = False\n",
    "    has_upper = False\n",
    "    has_digit = False\n",
    "    has_special = False\n",
    "\n",
    "    special_chars = \"!@#$%^&*()-_+=<>?/[]{}|\"\n",
    "    \n",
    "    for char in password:\n",
    "        if char.islower():\n",
    "            has_lower = True\n",
    "        elif char.isupper():\n",
    "            has_upper = True\n",
    "        elif char.isdigit():\n",
    "            has_digit = True\n",
    "        elif char in special_chars:\n",
    "            has_special = True\n",
    "        \n",
    "        if has_lower and has_upper and has_digit and has_special:\n",
    "            return True\n",
    "    \n",
    "    return False"
   ]
  },
  {
   "cell_type": "code",
   "execution_count": 28,
   "metadata": {},
   "outputs": [
    {
     "name": "stdout",
     "output_type": "stream",
     "text": [
      "True\n",
      "False\n",
      "False\n",
      "True\n",
      "False\n",
      "True\n"
     ]
    }
   ],
   "source": [
    "# Para testear tu función\n",
    "print(check_pass(\"Hola2025@\"))\n",
    "print(check_pass(\"Hola2025\"))\n",
    "print(check_pass(\"holahola\"))\n",
    "print(check_pass(\"Hol@2025\"))\n",
    "print(check_pass(\"holaholahola2025%&/\"))\n",
    "print(check_pass(\"Holaholahola2025%&/\"))"
   ]
  }
 ],
 "metadata": {
  "kernelspec": {
   "display_name": "base",
   "language": "python",
   "name": "python3"
  },
  "language_info": {
   "codemirror_mode": {
    "name": "ipython",
    "version": 3
   },
   "file_extension": ".py",
   "mimetype": "text/x-python",
   "name": "python",
   "nbconvert_exporter": "python",
   "pygments_lexer": "ipython3",
   "version": "3.12.3"
  }
 },
 "nbformat": 4,
 "nbformat_minor": 4
}
